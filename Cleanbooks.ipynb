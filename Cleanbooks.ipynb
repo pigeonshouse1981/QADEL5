{
 "cells": [
  {
   "cell_type": "code",
   "execution_count": 1,
   "metadata": {},
   "outputs": [],
   "source": [
    "import pandas as pd\n",
    "import os\n",
    "from sqlalchemy import create_engine\n",
    "import urllib\n",
    "\n"
   ]
  },
  {
   "cell_type": "markdown",
   "metadata": {},
   "source": [
    "#Function"
   ]
  },
  {
   "cell_type": "code",
   "execution_count": 2,
   "metadata": {},
   "outputs": [],
   "source": [
    "\n",
    "\n",
    "def process_csv(file_path):\n",
    "    dtype_map = {\n",
    "        \"id\": \"int64\",\n",
    "        \"Books\": \"string\",\n",
    "        \"Days allowed to borrow\": \"string\",\n",
    "        \"Customer ID\": \"Int64\",\n",
    "    }\n",
    "\n",
    "    # Read raw, no parsing yet\n",
    "    df = pd.read_csv(file_path, dtype=dtype_map, dayfirst=True)\n",
    "\n",
    "    # Clean quotes from 'Book checkout' before parsing it as a date\n",
    "    if 'Book checkout' in df.columns:\n",
    "        df['Book checkout'] = df['Book checkout'].astype(str).str.replace('\"', '').str.replace(\"'\", '')\n",
    "\n",
    "    # Now parse date columns safely\n",
    "    df['Book checkout'] = pd.to_datetime(df['Book checkout'], errors='coerce', dayfirst=True)\n",
    "    df['Book Returned'] = pd.to_datetime(df['Book Returned'], errors='coerce', dayfirst=True)\n",
    "\n",
    "    df.dropna(how='all', inplace=True)\n",
    "\n",
    "    # Fill NaNs sensibly\n",
    "    df.fillna({\n",
    "        **{col: -1 for col in df.select_dtypes(include='number').columns},\n",
    "        **{col: 'Unknown' for col in df.select_dtypes(include=['object', 'string']).columns},\n",
    "        **{col: pd.NaT for col in df.select_dtypes(include='datetime').columns}\n",
    "    }, inplace=True)\n",
    "\n",
    "    # Compute days between\n",
    "    df['Days Between'] = (df['Book Returned'] - df['Book checkout']).dt.days\n",
    "    df.loc[df['Days Between'] < 0, 'Book Returned'] = df.loc[df['Days Between'] < 0, 'Book checkout']\n",
    "    df['Days Between'] = (df['Book Returned'] - df['Book checkout']).dt.days\n",
    "\n",
    "    return df\n",
    "\n",
    "\n"
   ]
  },
  {
   "cell_type": "code",
   "execution_count": 3,
   "metadata": {},
   "outputs": [],
   "source": [
    "def write_to_sql(df, table_name, server, database, username, password, if_exists='replace'):\n",
    "    connection_string = (\n",
    "        f\"DRIVER={{ODBC Driver 17 for SQL Server}};\"\n",
    "        f\"SERVER={server};\"\n",
    "        f\"DATABASE={database};\"\n",
    "        f\"UID={username};\"\n",
    "        f\"PWD={password}\"\n",
    "    )\n"
   ]
  },
  {
   "cell_type": "markdown",
   "metadata": {},
   "source": [
    "#Output"
   ]
  },
  {
   "cell_type": "code",
   "execution_count": 4,
   "metadata": {},
   "outputs": [
    {
     "name": "stdout",
     "output_type": "stream",
     "text": [
      "      Id                                     Books Book checkout  \\\n",
      "0    1.0                       Catcher in the Rye     2023-02-20   \n",
      "1    2.0          Lord of the rings the two towers    2023-03-24   \n",
      "2    3.0  Lord of the rings the return of the kind    2023-03-29   \n",
      "3    4.0                                The hobbit    2023-04-02   \n",
      "4    5.0                                     Dune     2023-04-02   \n",
      "5    6.0                              Little Women    2023-04-02   \n",
      "6    7.0                                        IT    2063-04-10   \n",
      "7    8.0                                   Misery     2023-04-15   \n",
      "8    9.0                                  Catch 22    2023-04-15   \n",
      "9   10.0                              Animal Farm     2023-04-20   \n",
      "10  11.0                                      1984    2023-04-23   \n",
      "11  12.0                              Little Women    2023-04-02   \n",
      "12  13.0                              East of Eden    2023-04-30   \n",
      "13  14.0                   America Is in the Heart    2023-05-01   \n",
      "14  15.0                         Wuthering Heights    2023-05-01   \n",
      "15  16.0                                Dark Tales    2023-05-15   \n",
      "16  17.0                        The Bloody Chamber           NaT   \n",
      "17  18.0                            Les Miserables    2023-06-03   \n",
      "18  19.0                                   Dracula    2023-06-10   \n",
      "19  20.0                              Frankenstein    2023-06-01   \n",
      "20  21.0                                   Unknown    2023-06-01   \n",
      "\n",
      "   Book Returned Days allowed to borrow  Customer ID  Days Between  \n",
      "0     2023-02-25                2 weeks            1           5.0  \n",
      "1     2023-03-24                2 weeks            2           0.0  \n",
      "2     2023-03-29                2 weeks            3           0.0  \n",
      "3     2023-04-02                2 weeks            4           0.0  \n",
      "4     2023-04-02                2 weeks            5           0.0  \n",
      "5     2023-05-01                2 weeks            1          29.0  \n",
      "6     2063-04-10                2 weeks            6           0.0  \n",
      "7     2023-04-15                2 weeks            7           0.0  \n",
      "8     2023-04-16                2 weeks            7           1.0  \n",
      "9     2023-04-24                2 weeks            2           4.0  \n",
      "10    2023-04-27                2 weeks            8           4.0  \n",
      "11    2023-05-01                2 weeks            1          29.0  \n",
      "12    2023-05-05                2 weeks            2           5.0  \n",
      "13    2023-05-07                2 weeks            3           6.0  \n",
      "14    2023-05-10                2 weeks            9           9.0  \n",
      "15    2023-06-01                2 weeks            2          17.0  \n",
      "16    2023-06-04                2 weeks            3           NaN  \n",
      "17    2023-06-07                2 weeks            5           4.0  \n",
      "18    2023-07-10                2 weeks           10          30.0  \n",
      "19    2023-06-20                2 weeks            2          19.0  \n",
      "20    2023-06-05                2 weeks           -1           4.0  \n"
     ]
    }
   ],
   "source": [
    "if __name__ == \"__main__\":\n",
    "    file_path = r\"C:\\Users\\Admin\\Desktop\\QADEL5\\data\\03_Library Systembook.csv\"\n",
    "    cleaned_df = process_csv(file_path)\n",
    "    print(cleaned_df) "
   ]
  },
  {
   "cell_type": "code",
   "execution_count": 5,
   "metadata": {},
   "outputs": [],
   "source": [
    "write_to_sql(\n",
    "        df=cleaned_df,\n",
    "        table_name=\"LibraryBooks\",\n",
    "        server=\"localhost\",\n",
    "        database=\"LibraryDB\",\n",
    "        username=\"STUDENT14\\Admin\",\n",
    "        password=\"\",\n",
    "        if_exists=\"replace\"  # or 'append'\n",
    "    )\n"
   ]
  }
 ],
 "metadata": {
  "kernelspec": {
   "display_name": "base",
   "language": "python",
   "name": "python3"
  },
  "language_info": {
   "codemirror_mode": {
    "name": "ipython",
    "version": 3
   },
   "file_extension": ".py",
   "mimetype": "text/x-python",
   "name": "python",
   "nbconvert_exporter": "python",
   "pygments_lexer": "ipython3",
   "version": "3.11.7"
  }
 },
 "nbformat": 4,
 "nbformat_minor": 2
}
