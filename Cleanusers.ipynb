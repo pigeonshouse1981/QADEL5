{
 "cells": [
  {
   "cell_type": "code",
   "execution_count": 6,
   "metadata": {},
   "outputs": [
    {
     "name": "stdout",
     "output_type": "stream",
     "text": [
      "   Customer ID     Customer Name\n",
      "0            1          Jane Doe\n",
      "1            2        John Smith\n",
      "2            3        Dan Reeves\n",
      "4            5    William Holden\n",
      "5            6     Jaztyn Forest\n",
      "6            7     Jackie Irving\n",
      "7            8  Matthew Stirling\n",
      "8            9         Emory Ted\n"
     ]
    }
   ],
   "source": [
    "import pandas as pd\n",
    "import os\n",
    "\n",
    "def process_csv(file_path):\n",
    "    \n",
    "    dtype_map= {\n",
    "        \"Customer ID\": \"Int64\",\n",
    "        \"Customer Name\": \"string\"\n",
    "    }\n",
    "    \n",
    "\n",
    "    # Read the CSV file, enforce 'books' as string\n",
    "    df = pd.read_csv(file_path, dtype=dtype_map, dayfirst=True) \n",
    "    df.dropna(how='all',inplace=True)\n",
    "    df.fillna({\n",
    "    **{col: -1 for col in df.select_dtypes(include='number').columns},\n",
    "    **{col: 'Unknown' for col in df.select_dtypes(include=['object', 'string']).columns},\n",
    "    **{col: pd.NaT for col in df.select_dtypes(include='datetime').columns}\n",
    "    }, inplace=True)\n",
    "    # Remove quotation marks from 'book_checkout' column if it exists\n",
    "\n",
    "\n",
    "    return df\n",
    "\n",
    "\n",
    "if __name__ == \"__main__\":\n",
    "    file_path = r\"C:\\Users\\Admin\\Desktop\\QADEL5\\data\\03_Library SystemCustomers.csv\"\n",
    "    cleaned_df = process_csv(file_path)\n",
    "    print(cleaned_df)  # Show first few rows of cleaned data"
   ]
  }
 ],
 "metadata": {
  "kernelspec": {
   "display_name": "base",
   "language": "python",
   "name": "python3"
  },
  "language_info": {
   "codemirror_mode": {
    "name": "ipython",
    "version": 3
   },
   "file_extension": ".py",
   "mimetype": "text/x-python",
   "name": "python",
   "nbconvert_exporter": "python",
   "pygments_lexer": "ipython3",
   "version": "3.11.7"
  }
 },
 "nbformat": 4,
 "nbformat_minor": 2
}
